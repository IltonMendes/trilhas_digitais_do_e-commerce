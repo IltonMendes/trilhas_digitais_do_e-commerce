{
 "cells": [
  {
   "cell_type": "markdown",
   "metadata": {},
   "source": [
    " ## Tornando a Escolha Certa: Recomendação de Planos Inteligentes na Megaline\n",
    "\n",
    "A operadora de celular Megaline enfrenta um desafio significativo em sua busca por aumentar a satisfação do cliente e otimizar sua receita. Muitos de seus assinantes ainda estão presos a planos de celular antigos, o que não apenas limita a oferta de serviços atualizados da Megaline, mas também reduz a competitividade da empresa no mercado. Para enfrentar esse problema, a Megaline propõe a implementação de um projeto de análise de dados voltado para a recomendação de planos mais recentes aos clientes, especificamente os planos \"Smart\" e \"Ultra\".\n",
    "\n",
    "O objetivo deste projeto é desenvolver um modelo de machine learning que seja capaz de analisar o comportamento do cliente com base em dados previamente coletados de assinantes que já migraram para os novos planos. Ao compreender os padrões de comportamento dos clientes, o modelo terá a tarefa de recomendar o plano mais adequado a cada cliente, seja o \"Smart\" ou o \"Ultra\". Esse modelo é essencial para a estratégia da Megaline, pois visa aumentar a adesão aos novos planos e, ao mesmo tempo, melhorar a satisfação dos clientes.\n",
    "\n",
    "O processo de desenvolvimento do modelo se concentrará na etapa de criação, uma vez que o pré-processamento dos dados já foi concluído. O sucesso deste projeto será avaliado com base na acurácia do modelo, com um limite estabelecido em 0,75. Isso significa que o modelo deve ser capaz de tomar decisões corretas em pelo menos 75% dos casos ao analisar o conjunto de dados de teste.\n",
    "\n",
    "Ao atingir esse objetivo, a Megaline poderá oferecer planos de celular mais adequados aos seus clientes, promovendo uma experiência aprimorada e, ao mesmo tempo, aumentando sua receita por meio da migração para planos mais lucrativos. Este projeto representa um passo importante na jornada da Megaline para se manter competitiva no setor de telecomunicações."
   ]
  },
  {
   "cell_type": "markdown",
   "metadata": {},
   "source": [
    "## importação de bibliotecas \n",
    "\n",
    "Antes de embarcarmos em qualquer análise de dados, é crucial importar as bibliotecas certas para o ambiente de codificação. As bibliotecas contêm conjuntos de ferramentas e funções que nos permitem executar tarefas específicas, variando desde a manipulação de dados até a visualização e análise estatística. Ao importar bibliotecas apropriadas, estamos essencialmente equipando nosso ambiente com as ferramentas necessárias para conduzir a análise de maneira eficaz e eficiente. Em projetos de análise de dados, é comum usar bibliotecas como pandas para manipulação de dados, matplotlib e seaborn para visualização, e scikit-learn para modelagem, entre outras. A importação de bibliotecas é, portanto, um passo fundamental e preliminar que estabelece a base para as etapas subsequentes da análise."
   ]
  },
  {
   "cell_type": "code",
   "execution_count": 1,
   "metadata": {},
   "outputs": [],
   "source": [
    "import pandas as pd\n",
    "from sklearn.ensemble import RandomForestRegressor\t\n",
    "from sklearn.model_selection import train_test_split\n",
    "from sklearn.metrics import mean_squared_error\n",
    "from sklearn.tree import DecisionTreeClassifier\n",
    "from sklearn.metrics import accuracy_score\n",
    "from sklearn.ensemble import RandomForestClassifier\n",
    "from sklearn.linear_model import LogisticRegression\n",
    "from sklearn.metrics import mean_squared_error\n",
    "from sklearn.tree import DecisionTreeRegressor\n",
    "from sklearn.linear_model import LinearRegression"
   ]
  },
  {
   "cell_type": "code",
   "execution_count": 2,
   "metadata": {},
   "outputs": [],
   "source": [
    "try:\n",
    "    df = pd.read_csv(r'C:\\Users\\Note\\Desktop\\projeto 7\\users_behavior.csv')\n",
    "except:\n",
    "    df = pd.read_csv('/datasets/users_behavior_upd.csv')"
   ]
  },
  {
   "cell_type": "markdown",
   "metadata": {},
   "source": [
    "## Observação de dados \n",
    "\n",
    "Agora é o momento de ter o nosso primeiro contato com os dados. Vamos identificar quais dados estão disponíveis, bem como possíveis problemas que possam estar presentes, como a ausência de informações, dados armazenados com o tipo incorreto, entre outros."
   ]
  },
  {
   "cell_type": "code",
   "execution_count": 3,
   "metadata": {
    "scrolled": true
   },
   "outputs": [
    {
     "data": {
      "text/html": [
       "<div>\n",
       "<style scoped>\n",
       "    .dataframe tbody tr th:only-of-type {\n",
       "        vertical-align: middle;\n",
       "    }\n",
       "\n",
       "    .dataframe tbody tr th {\n",
       "        vertical-align: top;\n",
       "    }\n",
       "\n",
       "    .dataframe thead th {\n",
       "        text-align: right;\n",
       "    }\n",
       "</style>\n",
       "<table border=\"1\" class=\"dataframe\">\n",
       "  <thead>\n",
       "    <tr style=\"text-align: right;\">\n",
       "      <th></th>\n",
       "      <th>calls</th>\n",
       "      <th>minutes</th>\n",
       "      <th>messages</th>\n",
       "      <th>mb_used</th>\n",
       "      <th>is_ultimate</th>\n",
       "    </tr>\n",
       "  </thead>\n",
       "  <tbody>\n",
       "    <tr>\n",
       "      <th>0</th>\n",
       "      <td>40.0</td>\n",
       "      <td>311.90</td>\n",
       "      <td>83.0</td>\n",
       "      <td>19915.42</td>\n",
       "      <td>0</td>\n",
       "    </tr>\n",
       "    <tr>\n",
       "      <th>1</th>\n",
       "      <td>85.0</td>\n",
       "      <td>516.75</td>\n",
       "      <td>56.0</td>\n",
       "      <td>22696.96</td>\n",
       "      <td>0</td>\n",
       "    </tr>\n",
       "    <tr>\n",
       "      <th>2</th>\n",
       "      <td>77.0</td>\n",
       "      <td>467.66</td>\n",
       "      <td>86.0</td>\n",
       "      <td>21060.45</td>\n",
       "      <td>0</td>\n",
       "    </tr>\n",
       "    <tr>\n",
       "      <th>3</th>\n",
       "      <td>106.0</td>\n",
       "      <td>745.53</td>\n",
       "      <td>81.0</td>\n",
       "      <td>8437.39</td>\n",
       "      <td>1</td>\n",
       "    </tr>\n",
       "    <tr>\n",
       "      <th>4</th>\n",
       "      <td>66.0</td>\n",
       "      <td>418.74</td>\n",
       "      <td>1.0</td>\n",
       "      <td>14502.75</td>\n",
       "      <td>0</td>\n",
       "    </tr>\n",
       "  </tbody>\n",
       "</table>\n",
       "</div>"
      ],
      "text/plain": [
       "   calls  minutes  messages   mb_used  is_ultimate\n",
       "0   40.0   311.90      83.0  19915.42            0\n",
       "1   85.0   516.75      56.0  22696.96            0\n",
       "2   77.0   467.66      86.0  21060.45            0\n",
       "3  106.0   745.53      81.0   8437.39            1\n",
       "4   66.0   418.74       1.0  14502.75            0"
      ]
     },
     "execution_count": 3,
     "metadata": {},
     "output_type": "execute_result"
    }
   ],
   "source": [
    "df.head()"
   ]
  },
  {
   "cell_type": "markdown",
   "metadata": {},
   "source": [
    "* сalls — número de chamadas\n",
    "* minutes — duração total da chamada em minutos\n",
    "* messages — número de mensagens de texto\n",
    "* mb_used — Tráfego de Internet usado em MB\n",
    "* is_ultra — plano para o mês atual (Ultra - 1, Smart - 0)"
   ]
  },
  {
   "cell_type": "code",
   "execution_count": 4,
   "metadata": {},
   "outputs": [
    {
     "name": "stdout",
     "output_type": "stream",
     "text": [
      "<class 'pandas.core.frame.DataFrame'>\n",
      "RangeIndex: 3214 entries, 0 to 3213\n",
      "Data columns (total 5 columns):\n",
      " #   Column       Non-Null Count  Dtype  \n",
      "---  ------       --------------  -----  \n",
      " 0   calls        3214 non-null   float64\n",
      " 1   minutes      3214 non-null   float64\n",
      " 2   messages     3214 non-null   float64\n",
      " 3   mb_used      3214 non-null   float64\n",
      " 4   is_ultimate  3214 non-null   int64  \n",
      "dtypes: float64(4), int64(1)\n",
      "memory usage: 125.7 KB\n"
     ]
    }
   ],
   "source": [
    "df.info()"
   ]
  },
  {
   "cell_type": "markdown",
   "metadata": {},
   "source": [
    "O conjunto de dados está isento de valores ausentes, com os tipos de dados configurados de maneira adequada, permitindo-nos prosseguir com as análises de forma contínua e sem obstáculos."
   ]
  },
  {
   "cell_type": "code",
   "execution_count": 5,
   "metadata": {},
   "outputs": [
    {
     "data": {
      "text/html": [
       "<div>\n",
       "<style scoped>\n",
       "    .dataframe tbody tr th:only-of-type {\n",
       "        vertical-align: middle;\n",
       "    }\n",
       "\n",
       "    .dataframe tbody tr th {\n",
       "        vertical-align: top;\n",
       "    }\n",
       "\n",
       "    .dataframe thead th {\n",
       "        text-align: right;\n",
       "    }\n",
       "</style>\n",
       "<table border=\"1\" class=\"dataframe\">\n",
       "  <thead>\n",
       "    <tr style=\"text-align: right;\">\n",
       "      <th></th>\n",
       "      <th>calls</th>\n",
       "      <th>minutes</th>\n",
       "      <th>messages</th>\n",
       "      <th>mb_used</th>\n",
       "      <th>is_ultimate</th>\n",
       "    </tr>\n",
       "  </thead>\n",
       "  <tbody>\n",
       "    <tr>\n",
       "      <th>count</th>\n",
       "      <td>3214.000000</td>\n",
       "      <td>3214.000000</td>\n",
       "      <td>3214.000000</td>\n",
       "      <td>3214.000000</td>\n",
       "      <td>3214.000000</td>\n",
       "    </tr>\n",
       "    <tr>\n",
       "      <th>mean</th>\n",
       "      <td>63.038892</td>\n",
       "      <td>438.208787</td>\n",
       "      <td>38.281269</td>\n",
       "      <td>17207.673836</td>\n",
       "      <td>0.306472</td>\n",
       "    </tr>\n",
       "    <tr>\n",
       "      <th>std</th>\n",
       "      <td>33.236368</td>\n",
       "      <td>234.569872</td>\n",
       "      <td>36.148326</td>\n",
       "      <td>7570.968246</td>\n",
       "      <td>0.461100</td>\n",
       "    </tr>\n",
       "    <tr>\n",
       "      <th>min</th>\n",
       "      <td>0.000000</td>\n",
       "      <td>0.000000</td>\n",
       "      <td>0.000000</td>\n",
       "      <td>0.000000</td>\n",
       "      <td>0.000000</td>\n",
       "    </tr>\n",
       "    <tr>\n",
       "      <th>25%</th>\n",
       "      <td>40.000000</td>\n",
       "      <td>274.575000</td>\n",
       "      <td>9.000000</td>\n",
       "      <td>12491.902500</td>\n",
       "      <td>0.000000</td>\n",
       "    </tr>\n",
       "    <tr>\n",
       "      <th>50%</th>\n",
       "      <td>62.000000</td>\n",
       "      <td>430.600000</td>\n",
       "      <td>30.000000</td>\n",
       "      <td>16943.235000</td>\n",
       "      <td>0.000000</td>\n",
       "    </tr>\n",
       "    <tr>\n",
       "      <th>75%</th>\n",
       "      <td>82.000000</td>\n",
       "      <td>571.927500</td>\n",
       "      <td>57.000000</td>\n",
       "      <td>21424.700000</td>\n",
       "      <td>1.000000</td>\n",
       "    </tr>\n",
       "    <tr>\n",
       "      <th>max</th>\n",
       "      <td>244.000000</td>\n",
       "      <td>1632.060000</td>\n",
       "      <td>224.000000</td>\n",
       "      <td>49745.730000</td>\n",
       "      <td>1.000000</td>\n",
       "    </tr>\n",
       "  </tbody>\n",
       "</table>\n",
       "</div>"
      ],
      "text/plain": [
       "             calls      minutes     messages       mb_used  is_ultimate\n",
       "count  3214.000000  3214.000000  3214.000000   3214.000000  3214.000000\n",
       "mean     63.038892   438.208787    38.281269  17207.673836     0.306472\n",
       "std      33.236368   234.569872    36.148326   7570.968246     0.461100\n",
       "min       0.000000     0.000000     0.000000      0.000000     0.000000\n",
       "25%      40.000000   274.575000     9.000000  12491.902500     0.000000\n",
       "50%      62.000000   430.600000    30.000000  16943.235000     0.000000\n",
       "75%      82.000000   571.927500    57.000000  21424.700000     1.000000\n",
       "max     244.000000  1632.060000   224.000000  49745.730000     1.000000"
      ]
     },
     "execution_count": 5,
     "metadata": {},
     "output_type": "execute_result"
    }
   ],
   "source": [
    "df.describe()"
   ]
  },
  {
   "cell_type": "markdown",
   "metadata": {},
   "source": [
    "## Classificação de clientes \n",
    "\n",
    "A classificação de clientes em uma análise de dados é um processo que envolve a segmentação dos clientes de uma empresa com base em diversos critérios, com o objetivo de entender melhor seus comportamentos, necessidades e potencial de valor. Este processo utiliza técnicas de análise de dados e modelagem estatística para agrupar clientes em categorias distintas. Essas categorias podem ser baseadas em diversos fatores.\n",
    " A classificação de clientes permite que as empresas desenvolvam estratégias de marketing mais personalizadas, melhorem a experiência do cliente, otimizem a alocação de recursos e prevejam tendências futuras de compra. Além disso, ajuda na identificação de clientes mais valiosos e na compreensão das necessidades de diferentes segmentos de mercado, facilitando a tomada de decisões baseadas em dados."
   ]
  },
  {
   "cell_type": "code",
   "execution_count": 6,
   "metadata": {},
   "outputs": [
    {
     "name": "stdout",
     "output_type": "stream",
     "text": [
      "(2410, 4)\n",
      "(2410,)\n",
      "(804, 4)\n",
      "(804,)\n"
     ]
    }
   ],
   "source": [
    "df_train, df_valid = train_test_split(df, test_size=0.25, random_state=12345)\n",
    "features_train = df_train.drop(['is_ultimate'], axis=1)\n",
    "target_train = df_train['is_ultimate']\n",
    "features_valid = df_valid.drop(['is_ultimate'], axis=1)  \n",
    "target_valid = df_valid['is_ultimate']                   \n",
    "print(features_train.shape)\n",
    "print(target_train.shape)\n",
    "print(features_valid.shape)\n",
    "print(target_valid.shape)"
   ]
  },
  {
   "cell_type": "markdown",
   "metadata": {},
   "source": [
    "O dataset df é dividido em conjuntos de treinamento (df_train) e validação (df_valid) usando a função train_test_split do scikit-learn, com 25% dos dados destinados à validação e 75% ao treinamento. A divisão é feita de forma reproduzível com random_state=12345. Ambos os conjuntos são então separados em recursos (excluindo a coluna 'is_ultimate') e alvos (a coluna 'is_ultimate'). As dimensões destes subconjuntos são impressas para verificação. Este método é uma prática comum em aprendizado de máquina para preparar dados, permitindo avaliar a performance do modelo em dados não vistos, essencial para prever o comportamento do modelo com novos dados."
   ]
  },
  {
   "cell_type": "code",
   "execution_count": 7,
   "metadata": {},
   "outputs": [
    {
     "name": "stdout",
     "output_type": "stream",
     "text": [
      "Acurácia do melhor modelo de árvore no conjunto de validação: 0.7885572139303483\n"
     ]
    }
   ],
   "source": [
    "best_model_tree = None\n",
    "best_result_tree = 0\n",
    "for depth in range(1, 6):\n",
    "    model_tree = DecisionTreeClassifier(random_state=12345, max_depth=depth)\n",
    "    model_tree.fit(features_train, target_train)\n",
    "    predictions_valid = model_tree.predict(features_valid)  \n",
    "    result = accuracy_score(target_valid, predictions_valid)\n",
    "    if result > best_result_tree:\n",
    "        best_model_tree = model_tree\n",
    "        best_result_tree = result\n",
    "        \n",
    "print(\"Acurácia do melhor modelo de árvore no conjunto de validação:\", best_result_tree)"
   ]
  },
  {
   "cell_type": "markdown",
   "metadata": {},
   "source": [
    "O código inicia definindo duas variáveis: best_model_tree, para armazenar o melhor modelo de árvore de decisão, e best_result_tree, para guardar a maior acurácia obtida, inicialmente zero. Um loop for itera sobre profundidades de 1 a 5, criando e treinando um modelo de árvore de decisão com cada profundidade. Cada modelo é avaliado pela sua acurácia no conjunto de validação, e o modelo com a melhor acurácia é armazenado. Ao final do loop, a acurácia do melhor modelo é impressa. Este processo visa encontrar o modelo de árvore de decisão mais eficaz variando a profundidade máxima."
   ]
  },
  {
   "cell_type": "code",
   "execution_count": 8,
   "metadata": {},
   "outputs": [
    {
     "ename": "NameError",
     "evalue": "name 'model' is not defined",
     "output_type": "error",
     "traceback": [
      "\u001b[0;31m---------------------------------------------------------------------------\u001b[0m",
      "\u001b[0;31mNameError\u001b[0m                                 Traceback (most recent call last)",
      "\u001b[0;32m/tmp/ipykernel_184/3277322562.py\u001b[0m in \u001b[0;36m<module>\u001b[0;34m\u001b[0m\n\u001b[1;32m      8\u001b[0m     \u001b[0mresult\u001b[0m \u001b[0;34m=\u001b[0m \u001b[0mmean_squared_error\u001b[0m\u001b[0;34m(\u001b[0m\u001b[0mtarget_valid\u001b[0m\u001b[0;34m,\u001b[0m \u001b[0mpredictions_valid\u001b[0m\u001b[0;34m)\u001b[0m\u001b[0;34m**\u001b[0m\u001b[0;36m0.5\u001b[0m\u001b[0;34m\u001b[0m\u001b[0;34m\u001b[0m\u001b[0m\n\u001b[1;32m      9\u001b[0m     \u001b[0;32mif\u001b[0m \u001b[0mresult\u001b[0m \u001b[0;34m<\u001b[0m \u001b[0mbest_result\u001b[0m\u001b[0;34m:\u001b[0m\u001b[0;34m\u001b[0m\u001b[0;34m\u001b[0m\u001b[0m\n\u001b[0;32m---> 10\u001b[0;31m         \u001b[0mbest_model\u001b[0m \u001b[0;34m=\u001b[0m \u001b[0mmodel\u001b[0m\u001b[0;34m\u001b[0m\u001b[0;34m\u001b[0m\u001b[0m\n\u001b[0m\u001b[1;32m     11\u001b[0m         \u001b[0mbest_result\u001b[0m \u001b[0;34m=\u001b[0m \u001b[0mresult\u001b[0m\u001b[0;34m\u001b[0m\u001b[0;34m\u001b[0m\u001b[0m\n\u001b[1;32m     12\u001b[0m         \u001b[0mbest_depth\u001b[0m \u001b[0;34m=\u001b[0m \u001b[0mdepth\u001b[0m\u001b[0;34m\u001b[0m\u001b[0;34m\u001b[0m\u001b[0m\n",
      "\u001b[0;31mNameError\u001b[0m: name 'model' is not defined"
     ]
    }
   ],
   "source": [
    "best_model = None\n",
    "best_result = 10000\n",
    "best_depth = 0\n",
    "for depth in range(1, 6):\n",
    "    model_tree = DecisionTreeRegressor(max_depth=depth, random_state=12345)\n",
    "    model_tree.fit(features_train, target_train)\n",
    "    predictions_valid = model_tree.predict(features_valid)\n",
    "    result = mean_squared_error(target_valid, predictions_valid)**0.5\n",
    "    if result < best_result:\n",
    "        best_model = model\n",
    "        best_result = result\n",
    "        best_depth = depth\n",
    "\n",
    "print(f\"REQM do melhor modelo no conjunto de validação (max_depth = {best_depth}): {best_result}\")"
   ]
  },
  {
   "cell_type": "markdown",
   "metadata": {},
   "source": [
    "Este código busca o melhor modelo de árvore de decisão para regressão variando a profundidade máxima de 1 a 5. Em cada iteração, um novo modelo é treinado e sua performance é avaliada no conjunto de validação usando a raiz do erro quadrático médio (REQM). O modelo com o menor REQM é considerado o melhor, e seus parâmetros e REQM são impressos ao final."
   ]
  },
  {
   "cell_type": "code",
   "execution_count": null,
   "metadata": {
    "scrolled": false
   },
   "outputs": [],
   "source": [
    "best_score = 0\n",
    "best_est = 0\n",
    "best_depth = 0\n",
    "\n",
    "for est in [100, 200, 300]:\n",
    "    for depth in [3, 5, 10]:\n",
    "        model_forest = RandomForestClassifier(random_state=54321, n_estimators=est, max_depth=depth)\n",
    "        model_forest.fit(features_train, target_train)\n",
    "        score = model_forest.score(features_valid, target_valid)\n",
    "        if score > best_score:\n",
    "            best_score = score\n",
    "            best_est = est\n",
    "            best_depth = depth\n",
    "\n",
    "print(f\"A acurácia do melhor modelo de floresta aleatória no conjunto de validação (n_estimators = {best_est}, max_depth = {best_depth}): {best_score}\")\n",
    "\n",
    "final_model_forest = RandomForestClassifier(random_state=54321, n_estimators=best_est, max_depth=best_depth)\n",
    "final_model_forest.fit(features_train, target_train)"
   ]
  },
  {
   "cell_type": "markdown",
   "metadata": {},
   "source": [
    "O código otimiza um modelo de floresta aleatória testando diferentes combinações de n_estimators  e max_depth para encontrar a melhor acurácia no conjunto de validação. Inicializa variáveis para armazenar a melhor acurácia, número de estimadores e profundidade máxima. Após experimentar todas as combinações, armazena os hiperparâmetros do modelo com a melhor acurácia e treina um modelo final com esses parâmetros. Este processo visa equilibrar a complexidade do modelo e a prevenção do sobreajuste."
   ]
  },
  {
   "cell_type": "code",
   "execution_count": null,
   "metadata": {},
   "outputs": [],
   "source": [
    "best_model = None\n",
    "best_result = 10000\n",
    "best_est = 0\n",
    "best_depth = 0\n",
    "for est in range(10, 51, 10):\n",
    "    for depth in range (1, 11):\n",
    "        model = RandomForestRegressor(random_state=12345, n_estimators=est, max_depth=depth)\n",
    "        model.fit(features_train, target_train)\n",
    "        predictions_valid = model.predict(features_valid)\n",
    "        result = mean_squared_error(target_valid, predictions_valid)**0.5\n",
    "        if result < best_result:\n",
    "            best_model = model\n",
    "            best_result = result\n",
    "            best_est = est\n",
    "            best_depth = depth\n",
    "\n",
    "print(\"REQM do melhor modelo no conjunto de validação\", best_result, \"n_estimators:\", best_est, \"best_depth:\", depth)"
   ]
  },
  {
   "cell_type": "markdown",
   "metadata": {},
   "source": [
    "Este código realiza uma otimização para encontrar o melhor modelo de floresta aleatória regressora. Ele itera sobre diferentes combinações de número de estimadores e profundidade máxima da árvore, variando n_estimators de 10 a 50 e max_depth de 1 a 10. Para cada combinação, o modelo é treinado e avaliado usando a raiz do erro quadrático médio (REQM) no conjunto de validação. A combinação que resulta no menor REQM é considerada a melhor, e o código imprime o REQM do melhor modelo junto com os valores de n_estimators e max_depth correspondentes."
   ]
  },
  {
   "cell_type": "code",
   "execution_count": null,
   "metadata": {},
   "outputs": [],
   "source": [
    "model_regression = LogisticRegression(random_state=54321, solver='liblinear')\n",
    "model_regression.fit(features_train, target_train)\n",
    "score_train = model_regression.score(features_train, target_train)\n",
    "score_valid = model_regression.score(features_valid, target_valid)\n",
    "\n",
    "print(\"Acurácia do modelo de regressão logística no conjunto de treinamento:\", score_train)\n",
    "print(\"Acurácia do modelo de regressão logística no conjunto de validação:\", score_valid)"
   ]
  },
  {
   "cell_type": "markdown",
   "metadata": {},
   "source": [
    "O código cria, treina e avalia um modelo de regressão logística usando a biblioteca scikit-learn. Inicializado com um random_state específico e o solver 'liblinear', o modelo é treinado com dados de treinamento e sua acurácia é calculada tanto no conjunto de treinamento quanto no de validação. As acurácias são impressas para mostrar o desempenho do modelo em ajustar-se aos dados de treinamento e generalizar para novos dados. Este processo é crucial para entender como o modelo funciona com dados conhecidos e desconhecidos."
   ]
  },
  {
   "cell_type": "code",
   "execution_count": null,
   "metadata": {},
   "outputs": [],
   "source": [
    "model = LinearRegression()\n",
    "model.fit(features_train, target_train)\n",
    "predictions_valid = model.predict(features_valid)\n",
    "\n",
    "result = mean_squared_error(target_valid, predictions_valid)**0.5\n",
    "print(\"O REQMdo modelo de regressão linear no conjunto de validação:\", result)"
   ]
  },
  {
   "cell_type": "markdown",
   "metadata": {},
   "source": [
    "Este código treina um modelo de regressão linear usando o conjunto de treinamento , faz previsões no conjunto de validação , e calcula a raiz do erro quadrático médio (REQM) dessas previsões em comparação com os valores reais. O REQM obtido é então impresso, fornecendo uma medida da precisão do modelo de regressão linear no conjunto de validação."
   ]
  },
  {
   "cell_type": "markdown",
   "metadata": {},
   "source": [
    "## Conclusões sobre Modelos de Aprendizado de Máquina\n",
    "Após a criação e avaliação de três modelos de aprendizado de máquina, chegamos às seguintes conclusões detalhadas para cada um:\n",
    "\n",
    "* Árvore de Decisão (Classificação):\n",
    "\n",
    "A acurácia do melhor modelo de árvore de decisão foi de cerca de 78.9% no conjunto de validação.\n",
    "Este resultado foi obtido após um processo iterativo que variou a profundidade máxima da árvore entre 1 e 5, avaliando cada modelo pela sua acurácia.\n",
    "A acurácia significativa sugere que o modelo é eficaz na previsão de dados de validação, demonstrando um bom nível de precisão.\n",
    "* Árvore de Decisão (Regressão):\n",
    "\n",
    "O modelo mais eficiente para regressão alcançou um REQM de cerca de 0.402, com uma profundidade máxima de 5.\n",
    "A abordagem iterativa para ajustar a profundidade da árvore, similar ao modelo de classificação, foi crucial para minimizar o erro de previsão, indicando alta precisão nas estimativas do modelo.\n",
    "* Floresta Aleatória (Classificação):\n",
    "\n",
    "O modelo de floresta aleatória mais eficaz atingiu uma acurácia de aproximadamente 81.0%, usando 100 estimadores e uma profundidade máxima de 10.\n",
    "O processo de otimização testou diversas combinações de n_estimators e max_depth, com o objetivo de encontrar o equilíbrio ideal entre complexidade do modelo e prevenção de sobreajuste.\n",
    "* Floresta Aleatória (Regressão):\n",
    "\n",
    "O modelo de floresta aleatória para regressão apresentou um REQM de aproximadamente 0.387, configurado com 30 estimadores e profundidade máxima de 10.\n",
    "A combinação escolhida provou ser a mais eficiente, indicando uma precisão notável nas previsões de regressão.\n",
    "* Regressão Logística:\n",
    "\n",
    "O modelo de regressão logística mostrou uma acurácia de cerca de 74.1% no treinamento e 75.4% na validação.\n",
    "A acurácia consistentemente alta, tanto no treinamento quanto na validação, sugere uma boa generalização do modelo sem indícios de sobreajuste ou subajuste.\n",
    "Regressão Linear:\n",
    "\n",
    "O modelo de regressão linear exibiu um REQM de cerca de 0.438 no conjunto de validação.\n",
    "Este REQM relativamente baixo indica que as previsões do modelo estão próximas dos valores reais, refletindo uma boa precisão. Contudo, a falta de comparação com dados de treinamento limita uma análise completa sobre o ajuste do modelo.\n",
    "\n",
    "* Considerando o critério de acurácia, o modelo de floresta aleatória com uma acurácia de aproximadamente 81.0% é o melhor candidato para este projeto. Ele não só atende, mas excede o limiar de acurácia estabelecido, indicando que é provável que realize as previsões de classificação de forma mais eficiente em comparação com os outros modelos.\n",
    "\n",
    "Portanto, para a tarefa de recomendar um dos novos planos da Megaline com base no comportamento do cliente, recomenda-se utilizar o modelo de floresta aleatória.\n",
    "\n",
    "\n",
    "\n",
    "\n",
    "\n"
   ]
  }
 ],
 "metadata": {
  "kernelspec": {
   "display_name": "Python 3 (ipykernel)",
   "language": "python",
   "name": "python3"
  },
  "language_info": {
   "codemirror_mode": {
    "name": "ipython",
    "version": 3
   },
   "file_extension": ".py",
   "mimetype": "text/x-python",
   "name": "python",
   "nbconvert_exporter": "python",
   "pygments_lexer": "ipython3",
   "version": "3.9.5"
  },
  "toc": {
   "base_numbering": 1,
   "nav_menu": {},
   "number_sections": true,
   "sideBar": true,
   "skip_h1_title": true,
   "title_cell": "Table of Contents",
   "title_sidebar": "Contents",
   "toc_cell": false,
   "toc_position": {},
   "toc_section_display": true,
   "toc_window_display": true
  }
 },
 "nbformat": 4,
 "nbformat_minor": 2
}
